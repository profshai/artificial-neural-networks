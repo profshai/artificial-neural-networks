{
  "nbformat": 4,
  "nbformat_minor": 0,
  "metadata": {
    "colab": {
      "name": "stacked_lstm_stock_price_prediction.ipynb",
      "provenance": [],
      "collapsed_sections": [],
      "authorship_tag": "ABX9TyPl0LgN5JY+qlUW8q/GYmEl",
      "include_colab_link": true
    },
    "kernelspec": {
      "name": "python3",
      "display_name": "Python 3"
    },
    "language_info": {
      "name": "python"
    }
  },
  "cells": [
    {
      "cell_type": "markdown",
      "metadata": {
        "id": "view-in-github",
        "colab_type": "text"
      },
      "source": [
        "<a href=\"https://colab.research.google.com/github/profshai/neural-networks-deep-learning/blob/main/stacked_lstm_stock_price_prediction.ipynb\" target=\"_parent\"><img src=\"https://colab.research.google.com/assets/colab-badge.svg\" alt=\"Open In Colab\"/></a>"
      ]
    },
    {
      "cell_type": "markdown",
      "metadata": {
        "id": "2A9BR02YTFWa"
      },
      "source": [
        "# Stock Price Forecasting using Stacked Long Short Term Memory (LSTM) Networks\n",
        "\n",
        "Dataset: Apple stock data from May 27, 2015 to May 22, 2020."
      ]
    },
    {
      "cell_type": "markdown",
      "metadata": {
        "id": "mTfvNXLjcdIq"
      },
      "source": [
        "### Import Libraries and Dataset"
      ]
    },
    {
      "cell_type": "code",
      "metadata": {
        "id": "iqXtVZnUS6bN"
      },
      "source": [
        "import pandas as pd\n",
        "import numpy as np\n",
        "import matplotlib.pyplot as plt"
      ],
      "execution_count": null,
      "outputs": []
    },
    {
      "cell_type": "code",
      "metadata": {
        "colab": {
          "base_uri": "https://localhost:8080/",
          "height": 326
        },
        "id": "CaA88dLfUl9G",
        "outputId": "70c021b9-2c1b-4727-d716-3dd3afd4aa69"
      },
      "source": [
        "df = pd.read_csv('AAPL.csv')\n",
        "df.head()"
      ],
      "execution_count": null,
      "outputs": [
        {
          "output_type": "execute_result",
          "data": {
            "text/html": [
              "<div>\n",
              "<style scoped>\n",
              "    .dataframe tbody tr th:only-of-type {\n",
              "        vertical-align: middle;\n",
              "    }\n",
              "\n",
              "    .dataframe tbody tr th {\n",
              "        vertical-align: top;\n",
              "    }\n",
              "\n",
              "    .dataframe thead th {\n",
              "        text-align: right;\n",
              "    }\n",
              "</style>\n",
              "<table border=\"1\" class=\"dataframe\">\n",
              "  <thead>\n",
              "    <tr style=\"text-align: right;\">\n",
              "      <th></th>\n",
              "      <th>Unnamed: 0</th>\n",
              "      <th>symbol</th>\n",
              "      <th>date</th>\n",
              "      <th>close</th>\n",
              "      <th>high</th>\n",
              "      <th>low</th>\n",
              "      <th>open</th>\n",
              "      <th>volume</th>\n",
              "      <th>adjClose</th>\n",
              "      <th>adjHigh</th>\n",
              "      <th>adjLow</th>\n",
              "      <th>adjOpen</th>\n",
              "      <th>adjVolume</th>\n",
              "      <th>divCash</th>\n",
              "      <th>splitFactor</th>\n",
              "    </tr>\n",
              "  </thead>\n",
              "  <tbody>\n",
              "    <tr>\n",
              "      <th>0</th>\n",
              "      <td>0</td>\n",
              "      <td>AAPL</td>\n",
              "      <td>2015-05-27 00:00:00+00:00</td>\n",
              "      <td>132.045</td>\n",
              "      <td>132.260</td>\n",
              "      <td>130.05</td>\n",
              "      <td>130.34</td>\n",
              "      <td>45833246</td>\n",
              "      <td>121.682558</td>\n",
              "      <td>121.880685</td>\n",
              "      <td>119.844118</td>\n",
              "      <td>120.111360</td>\n",
              "      <td>45833246</td>\n",
              "      <td>0.0</td>\n",
              "      <td>1.0</td>\n",
              "    </tr>\n",
              "    <tr>\n",
              "      <th>1</th>\n",
              "      <td>1</td>\n",
              "      <td>AAPL</td>\n",
              "      <td>2015-05-28 00:00:00+00:00</td>\n",
              "      <td>131.780</td>\n",
              "      <td>131.950</td>\n",
              "      <td>131.10</td>\n",
              "      <td>131.86</td>\n",
              "      <td>30733309</td>\n",
              "      <td>121.438354</td>\n",
              "      <td>121.595013</td>\n",
              "      <td>120.811718</td>\n",
              "      <td>121.512076</td>\n",
              "      <td>30733309</td>\n",
              "      <td>0.0</td>\n",
              "      <td>1.0</td>\n",
              "    </tr>\n",
              "    <tr>\n",
              "      <th>2</th>\n",
              "      <td>2</td>\n",
              "      <td>AAPL</td>\n",
              "      <td>2015-05-29 00:00:00+00:00</td>\n",
              "      <td>130.280</td>\n",
              "      <td>131.450</td>\n",
              "      <td>129.90</td>\n",
              "      <td>131.23</td>\n",
              "      <td>50884452</td>\n",
              "      <td>120.056069</td>\n",
              "      <td>121.134251</td>\n",
              "      <td>119.705890</td>\n",
              "      <td>120.931516</td>\n",
              "      <td>50884452</td>\n",
              "      <td>0.0</td>\n",
              "      <td>1.0</td>\n",
              "    </tr>\n",
              "    <tr>\n",
              "      <th>3</th>\n",
              "      <td>3</td>\n",
              "      <td>AAPL</td>\n",
              "      <td>2015-06-01 00:00:00+00:00</td>\n",
              "      <td>130.535</td>\n",
              "      <td>131.390</td>\n",
              "      <td>130.05</td>\n",
              "      <td>131.20</td>\n",
              "      <td>32112797</td>\n",
              "      <td>120.291057</td>\n",
              "      <td>121.078960</td>\n",
              "      <td>119.844118</td>\n",
              "      <td>120.903870</td>\n",
              "      <td>32112797</td>\n",
              "      <td>0.0</td>\n",
              "      <td>1.0</td>\n",
              "    </tr>\n",
              "    <tr>\n",
              "      <th>4</th>\n",
              "      <td>4</td>\n",
              "      <td>AAPL</td>\n",
              "      <td>2015-06-02 00:00:00+00:00</td>\n",
              "      <td>129.960</td>\n",
              "      <td>130.655</td>\n",
              "      <td>129.32</td>\n",
              "      <td>129.86</td>\n",
              "      <td>33667627</td>\n",
              "      <td>119.761181</td>\n",
              "      <td>120.401640</td>\n",
              "      <td>119.171406</td>\n",
              "      <td>119.669029</td>\n",
              "      <td>33667627</td>\n",
              "      <td>0.0</td>\n",
              "      <td>1.0</td>\n",
              "    </tr>\n",
              "  </tbody>\n",
              "</table>\n",
              "</div>"
            ],
            "text/plain": [
              "   Unnamed: 0 symbol  ... divCash  splitFactor\n",
              "0           0   AAPL  ...     0.0          1.0\n",
              "1           1   AAPL  ...     0.0          1.0\n",
              "2           2   AAPL  ...     0.0          1.0\n",
              "3           3   AAPL  ...     0.0          1.0\n",
              "4           4   AAPL  ...     0.0          1.0\n",
              "\n",
              "[5 rows x 15 columns]"
            ]
          },
          "metadata": {
            "tags": []
          },
          "execution_count": 10
        }
      ]
    },
    {
      "cell_type": "code",
      "metadata": {
        "id": "wZZxJagFUl1Z",
        "colab": {
          "base_uri": "https://localhost:8080/",
          "height": 326
        },
        "outputId": "5d65d222-50b7-4d80-d4e2-25f46df41f08"
      },
      "source": [
        "df.tail()"
      ],
      "execution_count": null,
      "outputs": [
        {
          "output_type": "execute_result",
          "data": {
            "text/html": [
              "<div>\n",
              "<style scoped>\n",
              "    .dataframe tbody tr th:only-of-type {\n",
              "        vertical-align: middle;\n",
              "    }\n",
              "\n",
              "    .dataframe tbody tr th {\n",
              "        vertical-align: top;\n",
              "    }\n",
              "\n",
              "    .dataframe thead th {\n",
              "        text-align: right;\n",
              "    }\n",
              "</style>\n",
              "<table border=\"1\" class=\"dataframe\">\n",
              "  <thead>\n",
              "    <tr style=\"text-align: right;\">\n",
              "      <th></th>\n",
              "      <th>Unnamed: 0</th>\n",
              "      <th>symbol</th>\n",
              "      <th>date</th>\n",
              "      <th>close</th>\n",
              "      <th>high</th>\n",
              "      <th>low</th>\n",
              "      <th>open</th>\n",
              "      <th>volume</th>\n",
              "      <th>adjClose</th>\n",
              "      <th>adjHigh</th>\n",
              "      <th>adjLow</th>\n",
              "      <th>adjOpen</th>\n",
              "      <th>adjVolume</th>\n",
              "      <th>divCash</th>\n",
              "      <th>splitFactor</th>\n",
              "    </tr>\n",
              "  </thead>\n",
              "  <tbody>\n",
              "    <tr>\n",
              "      <th>1253</th>\n",
              "      <td>1253</td>\n",
              "      <td>AAPL</td>\n",
              "      <td>2020-05-18 00:00:00+00:00</td>\n",
              "      <td>314.96</td>\n",
              "      <td>316.50</td>\n",
              "      <td>310.3241</td>\n",
              "      <td>313.17</td>\n",
              "      <td>33843125</td>\n",
              "      <td>314.96</td>\n",
              "      <td>316.50</td>\n",
              "      <td>310.3241</td>\n",
              "      <td>313.17</td>\n",
              "      <td>33843125</td>\n",
              "      <td>0.0</td>\n",
              "      <td>1.0</td>\n",
              "    </tr>\n",
              "    <tr>\n",
              "      <th>1254</th>\n",
              "      <td>1254</td>\n",
              "      <td>AAPL</td>\n",
              "      <td>2020-05-19 00:00:00+00:00</td>\n",
              "      <td>313.14</td>\n",
              "      <td>318.52</td>\n",
              "      <td>313.0100</td>\n",
              "      <td>315.03</td>\n",
              "      <td>25432385</td>\n",
              "      <td>313.14</td>\n",
              "      <td>318.52</td>\n",
              "      <td>313.0100</td>\n",
              "      <td>315.03</td>\n",
              "      <td>25432385</td>\n",
              "      <td>0.0</td>\n",
              "      <td>1.0</td>\n",
              "    </tr>\n",
              "    <tr>\n",
              "      <th>1255</th>\n",
              "      <td>1255</td>\n",
              "      <td>AAPL</td>\n",
              "      <td>2020-05-20 00:00:00+00:00</td>\n",
              "      <td>319.23</td>\n",
              "      <td>319.52</td>\n",
              "      <td>316.2000</td>\n",
              "      <td>316.68</td>\n",
              "      <td>27876215</td>\n",
              "      <td>319.23</td>\n",
              "      <td>319.52</td>\n",
              "      <td>316.2000</td>\n",
              "      <td>316.68</td>\n",
              "      <td>27876215</td>\n",
              "      <td>0.0</td>\n",
              "      <td>1.0</td>\n",
              "    </tr>\n",
              "    <tr>\n",
              "      <th>1256</th>\n",
              "      <td>1256</td>\n",
              "      <td>AAPL</td>\n",
              "      <td>2020-05-21 00:00:00+00:00</td>\n",
              "      <td>316.85</td>\n",
              "      <td>320.89</td>\n",
              "      <td>315.8700</td>\n",
              "      <td>318.66</td>\n",
              "      <td>25672211</td>\n",
              "      <td>316.85</td>\n",
              "      <td>320.89</td>\n",
              "      <td>315.8700</td>\n",
              "      <td>318.66</td>\n",
              "      <td>25672211</td>\n",
              "      <td>0.0</td>\n",
              "      <td>1.0</td>\n",
              "    </tr>\n",
              "    <tr>\n",
              "      <th>1257</th>\n",
              "      <td>1257</td>\n",
              "      <td>AAPL</td>\n",
              "      <td>2020-05-22 00:00:00+00:00</td>\n",
              "      <td>318.89</td>\n",
              "      <td>319.23</td>\n",
              "      <td>315.3500</td>\n",
              "      <td>315.77</td>\n",
              "      <td>20450754</td>\n",
              "      <td>318.89</td>\n",
              "      <td>319.23</td>\n",
              "      <td>315.3500</td>\n",
              "      <td>315.77</td>\n",
              "      <td>20450754</td>\n",
              "      <td>0.0</td>\n",
              "      <td>1.0</td>\n",
              "    </tr>\n",
              "  </tbody>\n",
              "</table>\n",
              "</div>"
            ],
            "text/plain": [
              "      Unnamed: 0 symbol  ... divCash  splitFactor\n",
              "1253        1253   AAPL  ...     0.0          1.0\n",
              "1254        1254   AAPL  ...     0.0          1.0\n",
              "1255        1255   AAPL  ...     0.0          1.0\n",
              "1256        1256   AAPL  ...     0.0          1.0\n",
              "1257        1257   AAPL  ...     0.0          1.0\n",
              "\n",
              "[5 rows x 15 columns]"
            ]
          },
          "metadata": {
            "tags": []
          },
          "execution_count": 11
        }
      ]
    },
    {
      "cell_type": "markdown",
      "metadata": {
        "id": "RXDhs8ArXOhn"
      },
      "source": [
        "We need the 'close' values"
      ]
    },
    {
      "cell_type": "code",
      "metadata": {
        "colab": {
          "base_uri": "https://localhost:8080/"
        },
        "id": "ZH7JYDRWW4VM",
        "outputId": "8b5c2de1-6f33-4842-ef65-489fad3219c3"
      },
      "source": [
        "df = df.reset_index()['close']\n",
        "df.head()"
      ],
      "execution_count": null,
      "outputs": [
        {
          "output_type": "execute_result",
          "data": {
            "text/plain": [
              "0    132.045\n",
              "1    131.780\n",
              "2    130.280\n",
              "3    130.535\n",
              "4    129.960\n",
              "Name: close, dtype: float64"
            ]
          },
          "metadata": {
            "tags": []
          },
          "execution_count": 13
        }
      ]
    },
    {
      "cell_type": "code",
      "metadata": {
        "colab": {
          "base_uri": "https://localhost:8080/"
        },
        "id": "rGu1EgxrXIvr",
        "outputId": "a9affef5-f3ac-4432-b71c-4a19f0dac3c4"
      },
      "source": [
        "df.shape"
      ],
      "execution_count": null,
      "outputs": [
        {
          "output_type": "execute_result",
          "data": {
            "text/plain": [
              "(1258,)"
            ]
          },
          "metadata": {
            "tags": []
          },
          "execution_count": 15
        }
      ]
    },
    {
      "cell_type": "code",
      "metadata": {
        "colab": {
          "base_uri": "https://localhost:8080/",
          "height": 282
        },
        "id": "fXNU8pN_XSyJ",
        "outputId": "7f99bec5-8438-45f2-d286-79a4d7f13689"
      },
      "source": [
        "plt.plot(df)"
      ],
      "execution_count": null,
      "outputs": [
        {
          "output_type": "execute_result",
          "data": {
            "text/plain": [
              "[<matplotlib.lines.Line2D at 0x7f087e997510>]"
            ]
          },
          "metadata": {
            "tags": []
          },
          "execution_count": 16
        },
        {
          "output_type": "display_data",
          "data": {
            "image/png": "[encoded data removed]",
            "text/plain": [
              "<Figure size 432x288 with 1 Axes>"
            ]
          },
          "metadata": {
            "tags": [],
            "needs_background": "light"
          }
        }
      ]
    },
    {
      "cell_type": "markdown",
      "metadata": {
        "id": "cXWwSWvJaByw"
      },
      "source": [
        "### Feature scaling"
      ]
    },
    {
      "cell_type": "code",
      "metadata": {
        "id": "k8IRyuoDXXaz"
      },
      "source": [
        "from sklearn.preprocessing import MinMaxScaler\n",
        "scaler = MinMaxScaler(feature_range=(0,1))\n",
        "df = scaler.fit_transform(np.array(df).reshape(-1,1))"
      ],
      "execution_count": null,
      "outputs": []
    },
    {
      "cell_type": "code",
      "metadata": {
        "colab": {
          "base_uri": "https://localhost:8080/"
        },
        "id": "anW6W6Mua9Z9",
        "outputId": "3f50be8a-b190-4efa-b1e7-5fe964ce83b6"
      },
      "source": [
        "df"
      ],
      "execution_count": null,
      "outputs": [
        {
          "output_type": "execute_result",
          "data": {
            "text/plain": [
              "array([[0.17607447],\n",
              "       [0.17495567],\n",
              "       [0.16862282],\n",
              "       ...,\n",
              "       [0.96635143],\n",
              "       [0.9563033 ],\n",
              "       [0.96491598]])"
            ]
          },
          "metadata": {
            "tags": []
          },
          "execution_count": 29
        }
      ]
    },
    {
      "cell_type": "code",
      "metadata": {
        "colab": {
          "base_uri": "https://localhost:8080/"
        },
        "id": "zzhC_vOLap7i",
        "outputId": "0f6a62a2-84ab-4c0d-a1bc-6d5cd4b90439"
      },
      "source": [
        "df.shape"
      ],
      "execution_count": null,
      "outputs": [
        {
          "output_type": "execute_result",
          "data": {
            "text/plain": [
              "(1258, 1)"
            ]
          },
          "metadata": {
            "tags": []
          },
          "execution_count": 19
        }
      ]
    },
    {
      "cell_type": "markdown",
      "metadata": {
        "id": "TlZnjwGDaxED"
      },
      "source": [
        "### Split data into test and train set"
      ]
    },
    {
      "cell_type": "code",
      "metadata": {
        "id": "TafWwHszauL2"
      },
      "source": [
        "training_size = int(len(df) * 0.7)\n",
        "train_data = df[0:training_size, :]\n",
        "test_data = df[training_size: len(df), :]"
      ],
      "execution_count": null,
      "outputs": []
    },
    {
      "cell_type": "code",
      "metadata": {
        "colab": {
          "base_uri": "https://localhost:8080/"
        },
        "id": "9y3u3q4Fb-fT",
        "outputId": "d8db7a51-8468-42ec-fb37-b4edd36c52a1"
      },
      "source": [
        "train_data.shape"
      ],
      "execution_count": null,
      "outputs": [
        {
          "output_type": "execute_result",
          "data": {
            "text/plain": [
              "(880, 1)"
            ]
          },
          "metadata": {
            "tags": []
          },
          "execution_count": 26
        }
      ]
    },
    {
      "cell_type": "code",
      "metadata": {
        "colab": {
          "base_uri": "https://localhost:8080/"
        },
        "id": "LpuGDBfKcB5X",
        "outputId": "bb32ede9-08be-4462-96cc-219cac08d6b7"
      },
      "source": [
        "test_data.shape"
      ],
      "execution_count": null,
      "outputs": [
        {
          "output_type": "execute_result",
          "data": {
            "text/plain": [
              "(378, 1)"
            ]
          },
          "metadata": {
            "tags": []
          },
          "execution_count": 27
        }
      ]
    },
    {
      "cell_type": "code",
      "metadata": {
        "id": "RwM9yBWtdNsU"
      },
      "source": [
        "# convert an array of values into a dataset matrix\n",
        "# To calculate the next value, we need the previous values (features)\n",
        "def create_dataset(dataset, time_step=1):\n",
        "\tdataX, dataY = [], []\n",
        "\tfor i in range(len(dataset)-time_step-1):\n",
        "\t\ta = dataset[i:(i+time_step), 0]   ###i=0, 0,1,2,3-----99   100 \n",
        "\t\tdataX.append(a)\n",
        "\t\tdataY.append(dataset[i + time_step, 0])\n",
        "\treturn np.array(dataX), np.array(dataY)"
      ],
      "execution_count": null,
      "outputs": []
    },
    {
      "cell_type": "code",
      "metadata": {
        "id": "rtveJkCTdOSv"
      },
      "source": [
        "# reshape into X=t,t+1,t+2,t+3 and Y=t+4\n",
        "time_step = 100\n",
        "X_train, y_train = create_dataset(train_data, time_step)\n",
        "X_test, y_test = create_dataset(test_data, time_step)"
      ],
      "execution_count": null,
      "outputs": []
    },
    {
      "cell_type": "code",
      "metadata": {
        "colab": {
          "base_uri": "https://localhost:8080/"
        },
        "id": "JbwYXl_GdTB7",
        "outputId": "1652bc22-107f-4c45-e910-c2da5c3884f4"
      },
      "source": [
        "print(X_train.shape), print(y_train.shape)"
      ],
      "execution_count": null,
      "outputs": [
        {
          "output_type": "stream",
          "text": [
            "(779, 100)\n",
            "(779,)\n"
          ],
          "name": "stdout"
        },
        {
          "output_type": "execute_result",
          "data": {
            "text/plain": [
              "(None, None)"
            ]
          },
          "metadata": {
            "tags": []
          },
          "execution_count": 38
        }
      ]
    },
    {
      "cell_type": "code",
      "metadata": {
        "colab": {
          "base_uri": "https://localhost:8080/"
        },
        "id": "gVseRH5JdV4B",
        "outputId": "cd8b92f4-998c-4094-db82-a647d962b38e"
      },
      "source": [
        "print(X_test.shape), print(y_test.shape)"
      ],
      "execution_count": null,
      "outputs": [
        {
          "output_type": "stream",
          "text": [
            "(277, 100)\n",
            "(277,)\n"
          ],
          "name": "stdout"
        },
        {
          "output_type": "execute_result",
          "data": {
            "text/plain": [
              "(None, None)"
            ]
          },
          "metadata": {
            "tags": []
          },
          "execution_count": 39
        }
      ]
    },
    {
      "cell_type": "code",
      "metadata": {
        "id": "TyHcIRZmdYte"
      },
      "source": [
        "# reshape input to be [samples, time steps, features] which is required for LSTM\n",
        "X_train =X_train.reshape(X_train.shape[0],X_train.shape[1] , 1)\n",
        "X_test = X_test.reshape(X_test.shape[0],X_test.shape[1] , 1)"
      ],
      "execution_count": null,
      "outputs": []
    },
    {
      "cell_type": "markdown",
      "metadata": {
        "id": "4__5fWjlcVXq"
      },
      "source": [
        "### Create Stacked LSTM Networks Model"
      ]
    },
    {
      "cell_type": "code",
      "metadata": {
        "id": "uh3BfpUMcS24"
      },
      "source": [
        "from tensorflow.keras.models import Sequential\n",
        "from tensorflow.keras.layers import Dense\n",
        "from tensorflow.keras.layers import LSTM"
      ],
      "execution_count": null,
      "outputs": []
    },
    {
      "cell_type": "code",
      "metadata": {
        "id": "sbQ-2vUvfsfz"
      },
      "source": [
        "model=Sequential()\n",
        "model.add(LSTM(50,return_sequences=True,input_shape=(100,1)))\n",
        "model.add(LSTM(50,return_sequences=True))\n",
        "model.add(LSTM(50))\n",
        "model.add(Dense(1))\n",
        "model.compile(loss='mean_squared_error',optimizer='adam')"
      ],
      "execution_count": null,
      "outputs": []
    },
    {
      "cell_type": "code",
      "metadata": {
        "colab": {
          "base_uri": "https://localhost:8080/"
        },
        "id": "ju5-vVKgfyCa",
        "outputId": "5ec48b95-0f17-4bbb-90ce-b70003281662"
      },
      "source": [
        "model.summary()"
      ],
      "execution_count": null,
      "outputs": [
        {
          "output_type": "stream",
          "text": [
            "Model: \"sequential\"\n",
            "_________________________________________________________________\n",
            "Layer (type)                 Output Shape              Param #   \n",
            "=================================================================\n",
            "lstm (LSTM)                  (None, 100, 50)           10400     \n",
            "_________________________________________________________________\n",
            "lstm_1 (LSTM)                (None, 100, 50)           20200     \n",
            "_________________________________________________________________\n",
            "lstm_2 (LSTM)                (None, 50)                20200     \n",
            "_________________________________________________________________\n",
            "dense (Dense)                (None, 1)                 51        \n",
            "=================================================================\n",
            "Total params: 50,851\n",
            "Trainable params: 50,851\n",
            "Non-trainable params: 0\n",
            "_________________________________________________________________\n"
          ],
          "name": "stdout"
        }
      ]
    },
    {
      "cell_type": "code",
      "metadata": {
        "colab": {
          "base_uri": "https://localhost:8080/"
        },
        "id": "A5zX7iZYf2Ql",
        "outputId": "13dae27c-8b43-4d53-8ccd-9f582e8cf308"
      },
      "source": [
        "model.fit(X_train,y_train,validation_data=(X_test,y_test),epochs=100,batch_size=64,verbose=1)"
      ],
      "execution_count": null,
      "outputs": [
        {
          "output_type": "stream",
          "text": [
            "Epoch 1/100\n",
            "13/13 [==============================] - 10s 317ms/step - loss: 0.0305 - val_loss: 0.0327\n",
            "Epoch 2/100\n",
            "13/13 [==============================] - 3s 210ms/step - loss: 0.0052 - val_loss: 0.0048\n",
            "Epoch 3/100\n",
            "13/13 [==============================] - 3s 212ms/step - loss: 0.0021 - val_loss: 0.0053\n",
            "Epoch 4/100\n",
            "13/13 [==============================] - 3s 228ms/step - loss: 9.2467e-04 - val_loss: 0.0056\n",
            "Epoch 5/100\n",
            "13/13 [==============================] - 3s 226ms/step - loss: 7.5077e-04 - val_loss: 0.0066\n",
            "Epoch 6/100\n",
            "13/13 [==============================] - 3s 215ms/step - loss: 7.9418e-04 - val_loss: 0.0049\n",
            "Epoch 7/100\n",
            "13/13 [==============================] - 3s 210ms/step - loss: 7.0522e-04 - val_loss: 0.0047\n",
            "Epoch 8/100\n",
            "13/13 [==============================] - 3s 211ms/step - loss: 6.9421e-04 - val_loss: 0.0043\n",
            "Epoch 9/100\n",
            "13/13 [==============================] - 3s 209ms/step - loss: 6.5574e-04 - val_loss: 0.0048\n",
            "Epoch 10/100\n",
            "13/13 [==============================] - 3s 203ms/step - loss: 6.4246e-04 - val_loss: 0.0051\n",
            "Epoch 11/100\n",
            "13/13 [==============================] - 3s 204ms/step - loss: 6.3694e-04 - val_loss: 0.0052\n",
            "Epoch 12/100\n",
            "13/13 [==============================] - 3s 206ms/step - loss: 6.3230e-04 - val_loss: 0.0049\n",
            "Epoch 13/100\n",
            "13/13 [==============================] - 3s 197ms/step - loss: 6.1933e-04 - val_loss: 0.0056\n",
            "Epoch 14/100\n",
            "13/13 [==============================] - 3s 202ms/step - loss: 6.0292e-04 - val_loss: 0.0058\n",
            "Epoch 15/100\n",
            "13/13 [==============================] - 3s 209ms/step - loss: 5.8288e-04 - val_loss: 0.0061\n",
            "Epoch 16/100\n",
            "13/13 [==============================] - 3s 211ms/step - loss: 6.0430e-04 - val_loss: 0.0054\n",
            "Epoch 17/100\n",
            "13/13 [==============================] - 3s 206ms/step - loss: 5.7273e-04 - val_loss: 0.0041\n",
            "Epoch 18/100\n",
            "13/13 [==============================] - 3s 212ms/step - loss: 5.5736e-04 - val_loss: 0.0032\n",
            "Epoch 19/100\n",
            "13/13 [==============================] - 3s 216ms/step - loss: 6.6240e-04 - val_loss: 0.0059\n",
            "Epoch 20/100\n",
            "13/13 [==============================] - 3s 207ms/step - loss: 7.3657e-04 - val_loss: 0.0082\n",
            "Epoch 21/100\n",
            "13/13 [==============================] - 3s 203ms/step - loss: 5.9095e-04 - val_loss: 0.0034\n",
            "Epoch 22/100\n",
            "13/13 [==============================] - 3s 203ms/step - loss: 5.2465e-04 - val_loss: 0.0039\n",
            "Epoch 23/100\n",
            "13/13 [==============================] - 3s 201ms/step - loss: 5.0599e-04 - val_loss: 0.0038\n",
            "Epoch 24/100\n",
            "13/13 [==============================] - 3s 206ms/step - loss: 5.0940e-04 - val_loss: 0.0048\n",
            "Epoch 25/100\n",
            "13/13 [==============================] - 3s 204ms/step - loss: 5.1605e-04 - val_loss: 0.0029\n",
            "Epoch 26/100\n",
            "13/13 [==============================] - 3s 201ms/step - loss: 5.0571e-04 - val_loss: 0.0054\n",
            "Epoch 27/100\n",
            "13/13 [==============================] - 3s 203ms/step - loss: 4.8485e-04 - val_loss: 0.0064\n",
            "Epoch 28/100\n",
            "13/13 [==============================] - 3s 202ms/step - loss: 5.0687e-04 - val_loss: 0.0027\n",
            "Epoch 29/100\n",
            "13/13 [==============================] - 3s 207ms/step - loss: 4.9691e-04 - val_loss: 0.0030\n",
            "Epoch 30/100\n",
            "13/13 [==============================] - 3s 206ms/step - loss: 4.3930e-04 - val_loss: 0.0045\n",
            "Epoch 31/100\n",
            "13/13 [==============================] - 3s 205ms/step - loss: 4.4699e-04 - val_loss: 0.0027\n",
            "Epoch 32/100\n",
            "13/13 [==============================] - 3s 205ms/step - loss: 4.7084e-04 - val_loss: 0.0038\n",
            "Epoch 33/100\n",
            "13/13 [==============================] - 3s 203ms/step - loss: 4.2922e-04 - val_loss: 0.0029\n",
            "Epoch 34/100\n",
            "13/13 [==============================] - ETA: 0s - loss: 4.1934e-04Epoch 35/100\n",
            "13/13 [==============================] - 3s 197ms/step - loss: 4.1011e-04 - val_loss: 0.0055\n",
            "Epoch 36/100\n",
            "13/13 [==============================] - 3s 194ms/step - loss: 4.9873e-04 - val_loss: 0.0020\n",
            "Epoch 37/100\n",
            "13/13 [==============================] - 3s 196ms/step - loss: 4.3345e-04 - val_loss: 0.0065\n",
            "Epoch 38/100\n",
            "13/13 [==============================] - 3s 205ms/step - loss: 4.4585e-04 - val_loss: 0.0017\n",
            "Epoch 39/100\n",
            "13/13 [==============================] - 3s 200ms/step - loss: 4.7326e-04 - val_loss: 0.0040\n",
            "Epoch 40/100\n",
            "13/13 [==============================] - 3s 209ms/step - loss: 3.8332e-04 - val_loss: 0.0047\n",
            "Epoch 41/100\n",
            "13/13 [==============================] - 3s 211ms/step - loss: 4.0551e-04 - val_loss: 0.0039\n",
            "Epoch 42/100\n",
            "13/13 [==============================] - 3s 204ms/step - loss: 4.2312e-04 - val_loss: 0.0018\n",
            "Epoch 43/100\n",
            "13/13 [==============================] - 3s 209ms/step - loss: 3.9494e-04 - val_loss: 0.0039\n",
            "Epoch 44/100\n",
            "13/13 [==============================] - 3s 206ms/step - loss: 4.1119e-04 - val_loss: 0.0027\n",
            "Epoch 45/100\n",
            "13/13 [==============================] - 3s 209ms/step - loss: 4.1826e-04 - val_loss: 0.0030\n",
            "Epoch 46/100\n",
            "13/13 [==============================] - 3s 200ms/step - loss: 3.8205e-04 - val_loss: 0.0022\n",
            "Epoch 47/100\n",
            "13/13 [==============================] - 3s 203ms/step - loss: 3.4781e-04 - val_loss: 0.0030\n",
            "Epoch 48/100\n",
            "13/13 [==============================] - 3s 202ms/step - loss: 3.3665e-04 - val_loss: 0.0018\n",
            "Epoch 49/100\n",
            "13/13 [==============================] - 3s 205ms/step - loss: 3.5170e-04 - val_loss: 0.0030\n",
            "Epoch 50/100\n",
            "13/13 [==============================] - 3s 205ms/step - loss: 3.2877e-04 - val_loss: 0.0015\n",
            "Epoch 51/100\n",
            "13/13 [==============================] - 3s 203ms/step - loss: 3.2711e-04 - val_loss: 0.0026\n",
            "Epoch 52/100\n",
            "13/13 [==============================] - 3s 205ms/step - loss: 3.1542e-04 - val_loss: 0.0017\n",
            "Epoch 53/100\n",
            "13/13 [==============================] - 3s 202ms/step - loss: 3.0226e-04 - val_loss: 0.0016\n",
            "Epoch 54/100\n",
            "13/13 [==============================] - 3s 203ms/step - loss: 2.9511e-04 - val_loss: 0.0014\n",
            "Epoch 55/100\n",
            "13/13 [==============================] - 3s 204ms/step - loss: 2.9829e-04 - val_loss: 0.0019\n",
            "Epoch 56/100\n",
            "13/13 [==============================] - 3s 202ms/step - loss: 2.9111e-04 - val_loss: 0.0019\n",
            "Epoch 57/100\n",
            "13/13 [==============================] - 3s 202ms/step - loss: 2.7310e-04 - val_loss: 0.0041\n",
            "Epoch 58/100\n",
            "13/13 [==============================] - 3s 203ms/step - loss: 3.2249e-04 - val_loss: 0.0017\n",
            "13/13 [==============================] - 3s 195ms/step - loss: 3.0627e-04 - val_loss: 0.0017\n",
            "Epoch 60/100\n",
            "13/13 [==============================] - 3s 204ms/step - loss: 2.7940e-04 - val_loss: 0.0023\n",
            "Epoch 61/100\n",
            "13/13 [==============================] - 3s 203ms/step - loss: 2.9393e-04 - val_loss: 0.0015\n",
            "Epoch 62/100\n",
            "13/13 [==============================] - 3s 199ms/step - loss: 2.5030e-04 - val_loss: 0.0017\n",
            "Epoch 63/100\n",
            "13/13 [==============================] - 3s 203ms/step - loss: 2.3757e-04 - val_loss: 0.0018\n",
            "Epoch 64/100\n",
            "13/13 [==============================] - 3s 207ms/step - loss: 2.3991e-04 - val_loss: 0.0033\n",
            "Epoch 65/100\n",
            "13/13 [==============================] - 3s 201ms/step - loss: 3.0836e-04 - val_loss: 0.0011\n",
            "Epoch 66/100\n",
            "13/13 [==============================] - 3s 200ms/step - loss: 2.2688e-04 - val_loss: 0.0024\n",
            "Epoch 67/100\n",
            "13/13 [==============================] - 3s 201ms/step - loss: 2.5265e-04 - val_loss: 0.0011\n",
            "Epoch 68/100\n",
            "13/13 [==============================] - 3s 204ms/step - loss: 2.3254e-04 - val_loss: 0.0022\n",
            "Epoch 69/100\n",
            "13/13 [==============================] - 3s 202ms/step - loss: 2.3188e-04 - val_loss: 0.0013\n",
            "Epoch 70/100\n",
            "13/13 [==============================] - 3s 202ms/step - loss: 2.0789e-04 - val_loss: 0.0010\n",
            "Epoch 71/100\n",
            "13/13 [==============================] - 3s 195ms/step - loss: 2.1351e-04 - val_loss: 0.0013\n",
            "Epoch 72/100\n",
            "13/13 [==============================] - 3s 209ms/step - loss: 2.0297e-04 - val_loss: 0.0012\n",
            "Epoch 73/100\n",
            "13/13 [==============================] - 3s 202ms/step - loss: 2.1356e-04 - val_loss: 0.0022\n",
            "Epoch 74/100\n",
            "13/13 [==============================] - 3s 204ms/step - loss: 2.1457e-04 - val_loss: 9.9991e-04\n",
            "Epoch 75/100\n",
            "13/13 [==============================] - 3s 213ms/step - loss: 2.3348e-04 - val_loss: 0.0026\n",
            "Epoch 76/100\n",
            "13/13 [==============================] - 3s 203ms/step - loss: 2.6626e-04 - val_loss: 0.0032\n",
            "Epoch 77/100\n",
            "13/13 [==============================] - 3s 203ms/step - loss: 2.9997e-04 - val_loss: 9.5952e-04\n",
            "Epoch 78/100\n",
            "13/13 [==============================] - 3s 204ms/step - loss: 2.3376e-04 - val_loss: 0.0013\n",
            "Epoch 79/100\n",
            "13/13 [==============================] - 3s 206ms/step - loss: 1.9587e-04 - val_loss: 0.0021\n",
            "Epoch 80/100\n",
            "13/13 [==============================] - 3s 209ms/step - loss: 2.0931e-04 - val_loss: 0.0010\n",
            "Epoch 81/100\n",
            "13/13 [==============================] - 3s 209ms/step - loss: 2.1368e-04 - val_loss: 9.4341e-04\n",
            "Epoch 82/100\n",
            "13/13 [==============================] - 3s 194ms/step - loss: 1.9796e-04 - val_loss: 0.0012\n",
            "Epoch 83/100\n",
            "13/13 [==============================] - 3s 202ms/step - loss: 1.9718e-04 - val_loss: 0.0011\n",
            "Epoch 84/100\n",
            "13/13 [==============================] - 3s 210ms/step - loss: 2.0433e-04 - val_loss: 0.0026\n",
            "Epoch 85/100\n",
            "13/13 [==============================] - 3s 208ms/step - loss: 2.0754e-04 - val_loss: 9.4532e-04\n",
            "Epoch 86/100\n",
            "13/13 [==============================] - 3s 210ms/step - loss: 2.0203e-04 - val_loss: 0.0013\n",
            "Epoch 87/100\n",
            "13/13 [==============================] - 3s 209ms/step - loss: 2.0503e-04 - val_loss: 0.0015\n",
            "Epoch 88/100\n",
            "13/13 [==============================] - 3s 205ms/step - loss: 1.9392e-04 - val_loss: 0.0012\n",
            "Epoch 89/100\n",
            "13/13 [==============================] - 3s 203ms/step - loss: 1.7381e-04 - val_loss: 9.0075e-04\n",
            "Epoch 90/100\n",
            "13/13 [==============================] - 3s 208ms/step - loss: 1.8842e-04 - val_loss: 9.4943e-04\n",
            "Epoch 91/100\n",
            "13/13 [==============================] - 3s 205ms/step - loss: 1.8424e-04 - val_loss: 9.6869e-04\n",
            "Epoch 92/100\n",
            "13/13 [==============================] - 3s 203ms/step - loss: 2.5346e-04 - val_loss: 0.0018\n",
            "Epoch 93/100\n",
            "13/13 [==============================] - 3s 204ms/step - loss: 1.7478e-04 - val_loss: 0.0011\n",
            "Epoch 94/100\n",
            "13/13 [==============================] - 3s 204ms/step - loss: 1.6794e-04 - val_loss: 9.9151e-04\n",
            "Epoch 95/100\n",
            "13/13 [==============================] - 3s 206ms/step - loss: 1.7294e-04 - val_loss: 8.8316e-04\n",
            "Epoch 96/100\n",
            "13/13 [==============================] - 3s 202ms/step - loss: 1.7459e-04 - val_loss: 0.0011\n",
            "Epoch 97/100\n",
            "13/13 [==============================] - 3s 207ms/step - loss: 1.7532e-04 - val_loss: 0.0016\n",
            "Epoch 98/100\n",
            "13/13 [==============================] - 3s 205ms/step - loss: 1.9376e-04 - val_loss: 9.5521e-04\n",
            "Epoch 99/100\n",
            "13/13 [==============================] - 3s 203ms/step - loss: 2.0381e-04 - val_loss: 9.4986e-04\n",
            "Epoch 100/100\n",
            "13/13 [==============================] - 3s 206ms/step - loss: 1.7682e-04 - val_loss: 0.0012\n"
          ],
          "name": "stdout"
        },
        {
          "output_type": "execute_result",
          "data": {
            "text/plain": [
              "<tensorflow.python.keras.callbacks.History at 0x7f082d52c210>"
            ]
          },
          "metadata": {
            "tags": []
          },
          "execution_count": 44
        }
      ]
    },
    {
      "cell_type": "markdown",
      "metadata": {
        "id": "EE_FXhwoga3X"
      },
      "source": [
        "### Prediction and Model performance"
      ]
    },
    {
      "cell_type": "code",
      "metadata": {
        "id": "Byr6eYWAgCUV"
      },
      "source": [
        "train_predict=model.predict(X_train)\n",
        "test_predict=model.predict(X_test)"
      ],
      "execution_count": null,
      "outputs": []
    },
    {
      "cell_type": "code",
      "metadata": {
        "id": "8SAAJ1G2gDtu"
      },
      "source": [
        "##Transformback to original form\n",
        "train_predict=scaler.inverse_transform(train_predict)\n",
        "test_predict=scaler.inverse_transform(test_predict)"
      ],
      "execution_count": null,
      "outputs": []
    },
    {
      "cell_type": "code",
      "metadata": {
        "colab": {
          "base_uri": "https://localhost:8080/"
        },
        "id": "vJIB7o-KgjMz",
        "outputId": "f5606cad-c981-4ca5-bfb4-5a8f54e33330"
      },
      "source": [
        "### Train data RMSE performance metrics\n",
        "import math\n",
        "from sklearn.metrics import mean_squared_error\n",
        "math.sqrt(mean_squared_error(y_train,train_predict))"
      ],
      "execution_count": null,
      "outputs": [
        {
          "output_type": "execute_result",
          "data": {
            "text/plain": [
              "149.66750266673492"
            ]
          },
          "metadata": {
            "tags": []
          },
          "execution_count": 53
        }
      ]
    },
    {
      "cell_type": "code",
      "metadata": {
        "colab": {
          "base_uri": "https://localhost:8080/"
        },
        "id": "hruapa5NglyX",
        "outputId": "1a0d3813-6725-40f4-ec80-1fa9fcc74da7"
      },
      "source": [
        "### Test Data RMSE\n",
        "math.sqrt(mean_squared_error(y_test,test_predict))"
      ],
      "execution_count": null,
      "outputs": [
        {
          "output_type": "execute_result",
          "data": {
            "text/plain": [
              "245.63687792421226"
            ]
          },
          "metadata": {
            "tags": []
          },
          "execution_count": 62
        }
      ]
    },
    {
      "cell_type": "code",
      "metadata": {
        "colab": {
          "base_uri": "https://localhost:8080/",
          "height": 265
        },
        "id": "nS4X8UpWgpJn",
        "outputId": "536b5154-fa6d-471c-93d7-e00aef89dc6a"
      },
      "source": [
        "### Plottin \n",
        "# shift train predictions for plotting\n",
        "look_back=100\n",
        "trainPredictPlot = np.empty_like(df)\n",
        "trainPredictPlot[:, :] = np.nan\n",
        "trainPredictPlot[look_back:len(train_predict)+look_back, :] = train_predict\n",
        "# shift test predictions for plotting\n",
        "testPredictPlot = np.empty_like(df)\n",
        "testPredictPlot[:, :] = np.nan\n",
        "testPredictPlot[len(train_predict)+(look_back*2)+1:len(df)-1, :] = test_predict\n",
        "# plot baseline and predictions\n",
        "plt.plot(scaler.inverse_transform(df))\n",
        "plt.plot(trainPredictPlot)\n",
        "plt.plot(testPredictPlot)\n",
        "plt.show()"
      ],
      "execution_count": null,
      "outputs": [
        {
          "output_type": "display_data",
          "data": {
            "image/png": "[encoded data removed]",
            "text/plain": [
              "<Figure size 432x288 with 1 Axes>"
            ]
          },
          "metadata": {
            "tags": [],
            "needs_background": "light"
          }
        }
      ]
    },
    {
      "cell_type": "code",
      "metadata": {
        "colab": {
          "base_uri": "https://localhost:8080/"
        },
        "id": "vuvSdA--g1Mv",
        "outputId": "8a2d0413-e596-4f26-a554-a809ae485370"
      },
      "source": [
        "len(test_data)"
      ],
      "execution_count": null,
      "outputs": [
        {
          "output_type": "execute_result",
          "data": {
            "text/plain": [
              "378"
            ]
          },
          "metadata": {
            "tags": []
          },
          "execution_count": 63
        }
      ]
    },
    {
      "cell_type": "code",
      "metadata": {
        "colab": {
          "base_uri": "https://localhost:8080/"
        },
        "id": "-0g07Io6g1ql",
        "outputId": "24e2aafa-71f9-4ebc-9ce1-a3fc614314db"
      },
      "source": [
        "x_input=test_data[278:].reshape(1,-1)\n",
        "x_input.shape"
      ],
      "execution_count": null,
      "outputs": [
        {
          "output_type": "execute_result",
          "data": {
            "text/plain": [
              "(1, 100)"
            ]
          },
          "metadata": {
            "tags": []
          },
          "execution_count": 68
        }
      ]
    },
    {
      "cell_type": "code",
      "metadata": {
        "id": "9ROMogm7g3wG"
      },
      "source": [
        "temp_input=list(x_input)\n",
        "temp_input=temp_input[0].tolist()"
      ],
      "execution_count": null,
      "outputs": []
    },
    {
      "cell_type": "code",
      "metadata": {
        "id": "TMbXuIWQg6N_"
      },
      "source": [
        "# temp_input"
      ],
      "execution_count": null,
      "outputs": []
    },
    {
      "cell_type": "code",
      "metadata": {
        "id": "IX_cvn-ig-BQ"
      },
      "source": [
        "# Prediction for next 10 days\n",
        "from numpy import array\n",
        "\n",
        "lst_output=[]\n",
        "n_steps=100\n",
        "i=0\n",
        "while(i<30):\n",
        "    \n",
        "    if(len(temp_input)>100):\n",
        "        #print(temp_input)\n",
        "        x_input=np.array(temp_input[1:])\n",
        "        print(\"{} day input {}\".format(i,x_input))\n",
        "        x_input=x_input.reshape(1,-1)\n",
        "        x_input = x_input.reshape((1, n_steps, 1))\n",
        "        #print(x_input)\n",
        "        yhat = model.predict(x_input, verbose=0)\n",
        "        print(\"{} day output {}\".format(i,yhat))\n",
        "        temp_input.extend(yhat[0].tolist())\n",
        "        temp_input=temp_input[1:]\n",
        "        #print(temp_input)\n",
        "        lst_output.extend(yhat.tolist())\n",
        "        i=i+1\n",
        "    else:\n",
        "        x_input = x_input.reshape((1, n_steps,1))\n",
        "        yhat = model.predict(x_input, verbose=0)\n",
        "        print(yhat[0])\n",
        "        temp_input.extend(yhat[0].tolist())\n",
        "        print(len(temp_input))\n",
        "        lst_output.extend(yhat.tolist())\n",
        "        i=i+1"
      ],
      "execution_count": null,
      "outputs": []
    },
    {
      "cell_type": "code",
      "metadata": {
        "id": "wilgy2tWhEb1"
      },
      "source": [
        "# print(lst_output)"
      ],
      "execution_count": null,
      "outputs": []
    },
    {
      "cell_type": "code",
      "metadata": {
        "id": "p1xbUoVPhE6B"
      },
      "source": [
        "day_new=np.arange(1,101)\n",
        "day_pred=np.arange(101,131)"
      ],
      "execution_count": null,
      "outputs": []
    },
    {
      "cell_type": "code",
      "metadata": {
        "colab": {
          "base_uri": "https://localhost:8080/"
        },
        "id": "TlR6UrcAhIl-",
        "outputId": "82af91bf-e12f-47b1-fd9e-9fdb5c86b55e"
      },
      "source": [
        "len(df)"
      ],
      "execution_count": null,
      "outputs": [
        {
          "output_type": "execute_result",
          "data": {
            "text/plain": [
              "1258"
            ]
          },
          "metadata": {
            "tags": []
          },
          "execution_count": 74
        }
      ]
    },
    {
      "cell_type": "code",
      "metadata": {
        "colab": {
          "base_uri": "https://localhost:8080/",
          "height": 282
        },
        "id": "LzHC16NnhMVL",
        "outputId": "1735e73c-590b-4ad4-8489-75aab98463d7"
      },
      "source": [
        "plt.plot(day_new,scaler.inverse_transform(df[1158:]))\n",
        "plt.plot(day_pred,scaler.inverse_transform(lst_output))"
      ],
      "execution_count": null,
      "outputs": [
        {
          "output_type": "execute_result",
          "data": {
            "text/plain": [
              "[<matplotlib.lines.Line2D at 0x7f0828907790>]"
            ]
          },
          "metadata": {
            "tags": []
          },
          "execution_count": 76
        },
        {
          "output_type": "display_data",
          "data": {
            "image/png": "[encoded data removed]",
            "text/plain": [
              "<Figure size 432x288 with 1 Axes>"
            ]
          },
          "metadata": {
            "tags": [],
            "needs_background": "light"
          }
        }
      ]
    },
    {
      "cell_type": "code",
      "metadata": {
        "colab": {
          "base_uri": "https://localhost:8080/",
          "height": 282
        },
        "id": "GzFQlV4RhOpE",
        "outputId": "7058fdfd-6e70-4c63-89f1-638e52be79b7"
      },
      "source": [
        "df3=df.tolist()\n",
        "df3.extend(lst_output)\n",
        "plt.plot(df3[1200:])"
      ],
      "execution_count": null,
      "outputs": [
        {
          "output_type": "execute_result",
          "data": {
            "text/plain": [
              "[<matplotlib.lines.Line2D at 0x7f082899a0d0>]"
            ]
          },
          "metadata": {
            "tags": []
          },
          "execution_count": 78
        },
        {
          "output_type": "display_data",
          "data": {
            "image/png": "[encoded data removed]",
            "text/plain": [
              "<Figure size 432x288 with 1 Axes>"
            ]
          },
          "metadata": {
            "tags": [],
            "needs_background": "light"
          }
        }
      ]
    },
    {
      "cell_type": "code",
      "metadata": {
        "id": "mxcD-4UjhQ-s"
      },
      "source": [
        "df3=scaler.inverse_transform(df3).tolist()"
      ],
      "execution_count": null,
      "outputs": []
    },
    {
      "cell_type": "code",
      "metadata": {
        "colab": {
          "base_uri": "https://localhost:8080/",
          "height": 282
        },
        "id": "zr0iz-H-hTxQ",
        "outputId": "0183dace-c50d-4fee-b83a-882881fa2180"
      },
      "source": [
        "plt.plot(df3)"
      ],
      "execution_count": null,
      "outputs": [
        {
          "output_type": "execute_result",
          "data": {
            "text/plain": [
              "[<matplotlib.lines.Line2D at 0x7f0828986150>]"
            ]
          },
          "metadata": {
            "tags": []
          },
          "execution_count": 80
        },
        {
          "output_type": "display_data",
          "data": {
            "image/png": "[encoded data removed]",
            "text/plain": [
              "<Figure size 432x288 with 1 Axes>"
            ]
          },
          "metadata": {
            "tags": [],
            "needs_background": "light"
          }
        }
      ]
    },
    {
      "cell_type": "markdown",
      "metadata": {
        "id": "jn85YXnRhYSE"
      },
      "source": [
        "End of Notebook!"
      ]
    }
  ]
}