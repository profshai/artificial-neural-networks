{
  "nbformat": 4,
  "nbformat_minor": 0,
  "metadata": {
    "colab": {
      "name": "cnn_image-identification.ipynb",
      "provenance": [],
      "collapsed_sections": [],
      "include_colab_link": true
    },
    "kernelspec": {
      "name": "python3",
      "display_name": "Python 3"
    }
  },
  "cells": [
    {
      "cell_type": "markdown",
      "metadata": {
        "id": "view-in-github",
        "colab_type": "text"
      },
      "source": [
        "<a href=\"https://colab.research.google.com/github/profshai/neural-networks-deep-learning/blob/main/cnn_image_identification.ipynb\" target=\"_parent\"><img src=\"https://colab.research.google.com/assets/colab-badge.svg\" alt=\"Open In Colab\"/></a>"
      ]
    },
    {
      "cell_type": "markdown",
      "metadata": {
        "id": "3DR-eO17geWu"
      },
      "source": [
        "# Convolutional Neural Network - Image Identification\n",
        "\n",
        "We want to build a model that will identify whether an image is a 'cat' or a 'dog'."
      ]
    },
    {
      "cell_type": "markdown",
      "metadata": {
        "id": "EMefrVPCg-60"
      },
      "source": [
        "### Importing the libraries"
      ]
    },
    {
      "cell_type": "code",
      "metadata": {
        "id": "sCV30xyVhFbE"
      },
      "source": [
        "import tensorflow as tf\n",
        "from keras.preprocessing.image import ImageDataGenerator"
      ],
      "execution_count": 10,
      "outputs": []
    },
    {
      "cell_type": "code",
      "metadata": {
        "id": "FIleuCAjoFD8",
        "colab": {
          "base_uri": "https://localhost:8080/",
          "height": 35
        },
        "outputId": "39f638de-7c85-4ca7-f9ac-5d5cb5e3ff41"
      },
      "source": [
        "tf.__version__"
      ],
      "execution_count": 11,
      "outputs": [
        {
          "output_type": "execute_result",
          "data": {
            "application/vnd.google.colaboratory.intrinsic+json": {
              "type": "string"
            },
            "text/plain": [
              "'2.5.0'"
            ]
          },
          "metadata": {
            "tags": []
          },
          "execution_count": 11
        }
      ]
    },
    {
      "cell_type": "code",
      "metadata": {
        "colab": {
          "base_uri": "https://localhost:8080/"
        },
        "id": "VmRo_j8kxPoc",
        "outputId": "412558a4-da69-464e-9b84-99e5d99cb704"
      },
      "source": [
        "from google.colab import drive\n",
        "drive.mount('/content/drive')"
      ],
      "execution_count": 15,
      "outputs": [
        {
          "output_type": "stream",
          "text": [
            "Drive already mounted at /content/drive; to attempt to forcibly remount, call drive.mount(\"/content/drive\", force_remount=True).\n"
          ],
          "name": "stdout"
        }
      ]
    },
    {
      "cell_type": "code",
      "metadata": {
        "colab": {
          "base_uri": "https://localhost:8080/"
        },
        "id": "dgWG9fgK6Dgu",
        "outputId": "1282be6f-7dd7-4151-fbbb-e102c45b30f6"
      },
      "source": [
        "cd 'drive/MyDrive'"
      ],
      "execution_count": 17,
      "outputs": [
        {
          "output_type": "stream",
          "text": [
            "/content/drive/MyDrive\n"
          ],
          "name": "stdout"
        }
      ]
    },
    {
      "cell_type": "code",
      "metadata": {
        "colab": {
          "base_uri": "https://localhost:8080/"
        },
        "id": "1sStLjiP6h8s",
        "outputId": "39d74f54-2d48-47e3-8828-a4c93a160c9e"
      },
      "source": [
        "cd 'Colab Notebooks'"
      ],
      "execution_count": 19,
      "outputs": [
        {
          "output_type": "stream",
          "text": [
            "/content/drive/MyDrive/Colab Notebooks\n"
          ],
          "name": "stdout"
        }
      ]
    },
    {
      "cell_type": "code",
      "metadata": {
        "colab": {
          "base_uri": "https://localhost:8080/"
        },
        "id": "q9PCsXGh6qov",
        "outputId": "c06627e0-4d8e-4c36-9d9f-e9ab22cb3915"
      },
      "source": [
        "cd 'Deep-Learning'"
      ],
      "execution_count": 21,
      "outputs": [
        {
          "output_type": "stream",
          "text": [
            "/content/drive/My Drive/Colab Notebooks/Deep-Learning\n"
          ],
          "name": "stdout"
        }
      ]
    },
    {
      "cell_type": "code",
      "metadata": {
        "colab": {
          "base_uri": "https://localhost:8080/"
        },
        "id": "WjBGwbrA6vuU",
        "outputId": "c8306711-b51f-4bee-8d97-924eabc2ba00"
      },
      "source": [
        "cd 'dataset'"
      ],
      "execution_count": 22,
      "outputs": [
        {
          "output_type": "stream",
          "text": [
            "/content/drive/My Drive/Colab Notebooks/Deep-Learning/dataset\n"
          ],
          "name": "stdout"
        }
      ]
    },
    {
      "cell_type": "markdown",
      "metadata": {
        "id": "oxQxCBWyoGPE"
      },
      "source": [
        "## Part 1 - Data Preprocessing"
      ]
    },
    {
      "cell_type": "markdown",
      "metadata": {
        "id": "MvE-heJNo3GG"
      },
      "source": [
        "### Preprocessing the Training set"
      ]
    },
    {
      "cell_type": "code",
      "metadata": {
        "id": "0koUcJMJpEBD",
        "colab": {
          "base_uri": "https://localhost:8080/"
        },
        "outputId": "28e818dd-902c-42a7-e300-55f18e7a12af"
      },
      "source": [
        "train_datagen = ImageDataGenerator(rescale = 1./255,\n",
        "                                   shear_range = 0.2,\n",
        "                                   zoom_range = 0.2,\n",
        "                                   horizontal_flip = True)\n",
        "training_set = train_datagen.flow_from_directory('training_set',\n",
        "                                                 target_size = (64, 64),\n",
        "                                                 batch_size = 32,\n",
        "                                                 class_mode = 'binary')"
      ],
      "execution_count": 25,
      "outputs": [
        {
          "output_type": "stream",
          "text": [
            "Found 8329 images belonging to 2 classes.\n"
          ],
          "name": "stdout"
        }
      ]
    },
    {
      "cell_type": "markdown",
      "metadata": {
        "id": "mrCMmGw9pHys"
      },
      "source": [
        "### Preprocessing the Test set"
      ]
    },
    {
      "cell_type": "code",
      "metadata": {
        "id": "SH4WzfOhpKc3",
        "colab": {
          "base_uri": "https://localhost:8080/"
        },
        "outputId": "81ac9a1c-bc0c-4a71-8863-18b50baed625"
      },
      "source": [
        "test_datagen = ImageDataGenerator(rescale = 1./255)\n",
        "test_set = test_datagen.flow_from_directory('test_set',\n",
        "                                            target_size = (64, 64),\n",
        "                                            batch_size = 32,\n",
        "                                            class_mode = 'binary')"
      ],
      "execution_count": 26,
      "outputs": [
        {
          "output_type": "stream",
          "text": [
            "Found 2000 images belonging to 2 classes.\n"
          ],
          "name": "stdout"
        }
      ]
    },
    {
      "cell_type": "markdown",
      "metadata": {
        "id": "af8O4l90gk7B"
      },
      "source": [
        "## Part 2 - Building the CNN"
      ]
    },
    {
      "cell_type": "markdown",
      "metadata": {
        "id": "ces1gXY2lmoX"
      },
      "source": [
        "### Initialising the CNN"
      ]
    },
    {
      "cell_type": "code",
      "metadata": {
        "id": "SAUt4UMPlhLS"
      },
      "source": [
        "cnn = tf.keras.models.Sequential()"
      ],
      "execution_count": 27,
      "outputs": []
    },
    {
      "cell_type": "markdown",
      "metadata": {
        "id": "u5YJj_XMl5LF"
      },
      "source": [
        "### Step 1 - Convolution"
      ]
    },
    {
      "cell_type": "code",
      "metadata": {
        "id": "XPzPrMckl-hV"
      },
      "source": [
        "cnn.add(tf.keras.layers.Conv2D(filters=32, kernel_size=3, activation='relu', input_shape=[64, 64, 3]))"
      ],
      "execution_count": 28,
      "outputs": []
    },
    {
      "cell_type": "markdown",
      "metadata": {
        "id": "tf87FpvxmNOJ"
      },
      "source": [
        "### Step 2 - Pooling"
      ]
    },
    {
      "cell_type": "code",
      "metadata": {
        "id": "ncpqPl69mOac"
      },
      "source": [
        "cnn.add(tf.keras.layers.MaxPool2D(pool_size=2, strides=2))"
      ],
      "execution_count": 29,
      "outputs": []
    },
    {
      "cell_type": "markdown",
      "metadata": {
        "id": "xaTOgD8rm4mU"
      },
      "source": [
        "### Adding a second convolutional layer"
      ]
    },
    {
      "cell_type": "code",
      "metadata": {
        "id": "i_-FZjn_m8gk"
      },
      "source": [
        "cnn.add(tf.keras.layers.Conv2D(filters=32, kernel_size=3, activation='relu'))\n",
        "cnn.add(tf.keras.layers.MaxPool2D(pool_size=2, strides=2))"
      ],
      "execution_count": 30,
      "outputs": []
    },
    {
      "cell_type": "markdown",
      "metadata": {
        "id": "tmiEuvTunKfk"
      },
      "source": [
        "### Step 3 - Flattening"
      ]
    },
    {
      "cell_type": "code",
      "metadata": {
        "id": "6AZeOGCvnNZn"
      },
      "source": [
        "cnn.add(tf.keras.layers.Flatten())"
      ],
      "execution_count": 31,
      "outputs": []
    },
    {
      "cell_type": "markdown",
      "metadata": {
        "id": "dAoSECOm203v"
      },
      "source": [
        "### Step 4 - Full Connection"
      ]
    },
    {
      "cell_type": "code",
      "metadata": {
        "id": "8GtmUlLd26Nq"
      },
      "source": [
        "cnn.add(tf.keras.layers.Dense(units=128, activation='relu'))"
      ],
      "execution_count": 32,
      "outputs": []
    },
    {
      "cell_type": "markdown",
      "metadata": {
        "id": "yTldFvbX28Na"
      },
      "source": [
        "### Step 5 - Output Layer"
      ]
    },
    {
      "cell_type": "code",
      "metadata": {
        "id": "1p_Zj1Mc3Ko_"
      },
      "source": [
        "cnn.add(tf.keras.layers.Dense(units=1, activation='sigmoid'))"
      ],
      "execution_count": 33,
      "outputs": []
    },
    {
      "cell_type": "markdown",
      "metadata": {
        "id": "D6XkI90snSDl"
      },
      "source": [
        "## Part 3 - Training the CNN"
      ]
    },
    {
      "cell_type": "markdown",
      "metadata": {
        "id": "vfrFQACEnc6i"
      },
      "source": [
        "### Compiling the CNN"
      ]
    },
    {
      "cell_type": "code",
      "metadata": {
        "id": "NALksrNQpUlJ"
      },
      "source": [
        "cnn.compile(optimizer = 'adam', loss = 'binary_crossentropy', metrics = ['accuracy'])"
      ],
      "execution_count": 34,
      "outputs": []
    },
    {
      "cell_type": "markdown",
      "metadata": {
        "id": "ehS-v3MIpX2h"
      },
      "source": [
        "### Training the CNN on the Training set and evaluating it on the Test set"
      ]
    },
    {
      "cell_type": "code",
      "metadata": {
        "id": "XUj1W4PJptta",
        "colab": {
          "base_uri": "https://localhost:8080/"
        },
        "outputId": "320ad15c-7998-4005-b840-4f3736ffd991"
      },
      "source": [
        "cnn.fit(x = training_set, validation_data = test_set, epochs = 25)"
      ],
      "execution_count": 35,
      "outputs": [
        {
          "output_type": "stream",
          "text": [
            "Epoch 1/25\n",
            "261/261 [==============================] - 4631s 18s/step - loss: 0.6549 - accuracy: 0.6097 - val_loss: 0.5987 - val_accuracy: 0.6775\n",
            "Epoch 2/25\n",
            "261/261 [==============================] - 60s 230ms/step - loss: 0.5753 - accuracy: 0.7007 - val_loss: 0.5443 - val_accuracy: 0.7260\n",
            "Epoch 3/25\n",
            "261/261 [==============================] - 60s 229ms/step - loss: 0.5440 - accuracy: 0.7279 - val_loss: 0.5244 - val_accuracy: 0.7470\n",
            "Epoch 4/25\n",
            "261/261 [==============================] - 60s 231ms/step - loss: 0.5101 - accuracy: 0.7485 - val_loss: 0.5617 - val_accuracy: 0.7190\n",
            "Epoch 5/25\n",
            "261/261 [==============================] - 60s 228ms/step - loss: 0.4900 - accuracy: 0.7571 - val_loss: 0.4855 - val_accuracy: 0.7700\n",
            "Epoch 6/25\n",
            "261/261 [==============================] - 60s 229ms/step - loss: 0.4662 - accuracy: 0.7744 - val_loss: 0.4691 - val_accuracy: 0.7840\n",
            "Epoch 7/25\n",
            "261/261 [==============================] - 60s 228ms/step - loss: 0.4546 - accuracy: 0.7877 - val_loss: 0.5074 - val_accuracy: 0.7670\n",
            "Epoch 8/25\n",
            "261/261 [==============================] - 60s 229ms/step - loss: 0.4339 - accuracy: 0.7973 - val_loss: 0.4813 - val_accuracy: 0.7745\n",
            "Epoch 9/25\n",
            "261/261 [==============================] - ETA: 0s - loss: 0.4215 - accuracy: 0.8021Epoch 10/25\n",
            "261/261 [==============================] - ETA: 0s - loss: 0.4115 - accuracy: 0.8109Epoch 11/25\n",
            "261/261 [==============================] - 59s 227ms/step - loss: 0.3935 - accuracy: 0.8187 - val_loss: 0.4345 - val_accuracy: 0.8010\n",
            "Epoch 12/25\n",
            "261/261 [==============================] - 60s 230ms/step - loss: 0.3740 - accuracy: 0.8307 - val_loss: 0.4247 - val_accuracy: 0.8180\n",
            "Epoch 13/25\n",
            "261/261 [==============================] - 60s 229ms/step - loss: 0.3627 - accuracy: 0.8352 - val_loss: 0.4596 - val_accuracy: 0.8035\n",
            "Epoch 14/25\n",
            "261/261 [==============================] - 60s 230ms/step - loss: 0.3563 - accuracy: 0.8396 - val_loss: 0.4486 - val_accuracy: 0.8185\n",
            "Epoch 15/25\n",
            "261/261 [==============================] - 60s 231ms/step - loss: 0.3391 - accuracy: 0.8473 - val_loss: 0.4295 - val_accuracy: 0.8250\n",
            "Epoch 16/25\n",
            "261/261 [==============================] - 60s 229ms/step - loss: 0.3227 - accuracy: 0.8574 - val_loss: 0.4636 - val_accuracy: 0.8170\n",
            "Epoch 17/25\n",
            "261/261 [==============================] - ETA: 0s - loss: 0.3205 - accuracy: 0.8569Epoch 18/25\n",
            "261/261 [==============================] - 60s 228ms/step - loss: 0.3029 - accuracy: 0.8669 - val_loss: 0.4687 - val_accuracy: 0.8105\n",
            "Epoch 19/25\n",
            "261/261 [==============================] - 60s 228ms/step - loss: 0.2953 - accuracy: 0.8703 - val_loss: 0.4509 - val_accuracy: 0.8195\n",
            "Epoch 20/25\n",
            "261/261 [==============================] - 59s 228ms/step - loss: 0.2819 - accuracy: 0.8749 - val_loss: 0.4854 - val_accuracy: 0.8100\n",
            "Epoch 21/25\n",
            "261/261 [==============================] - 60s 228ms/step - loss: 0.2610 - accuracy: 0.8901 - val_loss: 0.5328 - val_accuracy: 0.8005\n",
            "Epoch 22/25\n",
            "261/261 [==============================] - 60s 228ms/step - loss: 0.2666 - accuracy: 0.8876 - val_loss: 0.4678 - val_accuracy: 0.8185\n",
            "Epoch 23/25\n",
            "261/261 [==============================] - 60s 230ms/step - loss: 0.2473 - accuracy: 0.8969 - val_loss: 0.4789 - val_accuracy: 0.8190\n",
            "Epoch 24/25\n",
            "261/261 [==============================] - 59s 227ms/step - loss: 0.2333 - accuracy: 0.9025 - val_loss: 0.5116 - val_accuracy: 0.8155\n",
            "Epoch 25/25\n",
            "261/261 [==============================] - 60s 229ms/step - loss: 0.2334 - accuracy: 0.9031 - val_loss: 0.5446 - val_accuracy: 0.7975\n"
          ],
          "name": "stdout"
        },
        {
          "output_type": "execute_result",
          "data": {
            "text/plain": [
              "<tensorflow.python.keras.callbacks.History at 0x7ff0fd506e10>"
            ]
          },
          "metadata": {
            "tags": []
          },
          "execution_count": 35
        }
      ]
    },
    {
      "cell_type": "markdown",
      "metadata": {
        "id": "U3PZasO0006Z"
      },
      "source": [
        "## Part 4 - Making a single prediction"
      ]
    },
    {
      "cell_type": "code",
      "metadata": {
        "id": "gsSiWEJY1BPB"
      },
      "source": [
        "# I downloaded a picture of a dog online to test the model.\n",
        "import numpy as np\n",
        "from keras.preprocessing import image\n",
        "test_image = image.load_img('single_prediction/dog_or_cat.jpeg', target_size = (64, 64))\n",
        "test_image = image.img_to_array(test_image)\n",
        "test_image = np.expand_dims(test_image, axis = 0)\n",
        "result = cnn.predict(test_image)\n",
        "training_set.class_indices\n",
        "if result[0][0] == 1:\n",
        "  prediction = 'dog'\n",
        "else:\n",
        "  prediction = 'cat'"
      ],
      "execution_count": 41,
      "outputs": []
    },
    {
      "cell_type": "code",
      "metadata": {
        "id": "ED9KB3I54c1i",
        "colab": {
          "base_uri": "https://localhost:8080/"
        },
        "outputId": "4881fb0f-fe8f-4abc-b415-ba00b51e80b3"
      },
      "source": [
        "print(prediction)"
      ],
      "execution_count": 42,
      "outputs": [
        {
          "output_type": "stream",
          "text": [
            "dog\n"
          ],
          "name": "stdout"
        }
      ]
    },
    {
      "cell_type": "markdown",
      "metadata": {
        "id": "eiDhrLk0TmNH"
      },
      "source": [
        "This is a correct prediction. The image of the dog is below:"
      ]
    },
    {
      "cell_type": "markdown",
      "metadata": {
        "id": "sGQDP7oQVr7h"
      },
      "source": [
        "![dog or cat.jpeg](data:image/jpeg;base64,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)"
      ]
    }
  ]
}